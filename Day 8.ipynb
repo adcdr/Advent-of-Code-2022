{
 "cells": [
  {
   "cell_type": "markdown",
   "source": [
    "# Part 1"
   ],
   "metadata": {
    "collapsed": false,
    "pycharm": {
     "name": "#%% md\n"
    }
   }
  },
  {
   "cell_type": "code",
   "execution_count": 1,
   "outputs": [],
   "source": [
    "grid = []\n",
    "\n",
    "with open('data/day-8.data') as f:\n",
    "    lines = f.readlines()\n",
    "\n",
    "    for line in lines:\n",
    "        ids = [c for c in line.strip()]\n",
    "        grid.append(ids)"
   ],
   "metadata": {
    "collapsed": false,
    "pycharm": {
     "name": "#%%\n"
    }
   }
  },
  {
   "cell_type": "code",
   "execution_count": 2,
   "outputs": [],
   "source": [
    "visible_indices = set()\n",
    "\n",
    "for i in range(len(grid)):\n",
    "    for j in range(len(grid)):\n",
    "        if i == 0 or i == len(grid) - 1 or j == 0 or j == len(grid) - 1:\n",
    "            visible_indices.add(i*len(grid) + j)\n",
    "        else:\n",
    "            # left\n",
    "            visible = True\n",
    "\n",
    "            for k in range(j):\n",
    "                if grid[i][k] >= grid[i][j]:\n",
    "                    visible = False\n",
    "                    break\n",
    "\n",
    "            if visible: visible_indices.add(i*len(grid) + j)\n",
    "\n",
    "            # right\n",
    "            visible = True\n",
    "\n",
    "            for k in range(len(grid) - 1, j, -1):\n",
    "                if grid[i][k] >= grid[i][j]:\n",
    "                    visible = False\n",
    "                    break\n",
    "\n",
    "            if visible: visible_indices.add(i*len(grid) + j)\n",
    "\n",
    "            # top\n",
    "            visible = True\n",
    "\n",
    "            for k in range(j):\n",
    "                if grid[k][i] >= grid[j][i]:\n",
    "                    visible = False\n",
    "                    break\n",
    "\n",
    "            if visible: visible_indices.add(j*len(grid) + i)\n",
    "\n",
    "            # bottom\n",
    "            visible = True\n",
    "\n",
    "            for k in range(len(grid)-1, j, -1):\n",
    "                if grid[k][i] >= grid[j][i]:\n",
    "                    visible = False\n",
    "                    break\n",
    "\n",
    "            if visible: visible_indices.add(j*len(grid) + i)"
   ],
   "metadata": {
    "collapsed": false,
    "pycharm": {
     "name": "#%%\n"
    }
   }
  },
  {
   "cell_type": "code",
   "execution_count": 3,
   "outputs": [
    {
     "data": {
      "text/plain": "1560"
     },
     "execution_count": 3,
     "metadata": {},
     "output_type": "execute_result"
    }
   ],
   "source": [
    "len(visible_indices)"
   ],
   "metadata": {
    "collapsed": false,
    "pycharm": {
     "name": "#%%\n"
    }
   }
  },
  {
   "cell_type": "markdown",
   "source": [
    "# Part 2"
   ],
   "metadata": {
    "collapsed": false,
    "pycharm": {
     "name": "#%% md\n"
    }
   }
  },
  {
   "cell_type": "code",
   "execution_count": 4,
   "outputs": [],
   "source": [
    "grid_2 = []\n",
    "\n",
    "with open('data/day-8-b.data') as f:\n",
    "    lines = f.readlines()\n",
    "\n",
    "    for line in lines:\n",
    "        row_ids = [c for c in line.strip()]\n",
    "        grid_2.append(row_ids)"
   ],
   "metadata": {
    "collapsed": false,
    "pycharm": {
     "name": "#%%\n"
    }
   }
  },
  {
   "cell_type": "code",
   "execution_count": 8,
   "outputs": [],
   "source": [
    "scores = []\n",
    "\n",
    "for i in range(len(grid_2)):\n",
    "    for j in range(len(grid_2)):\n",
    "        left_visible_count = 0\n",
    "        right_visible_count = 0\n",
    "        up_visible_count = 0\n",
    "        down_visible_count = 0\n",
    "\n",
    "        # left\n",
    "        for k in range(j-1, -1, -1):\n",
    "            left_visible_count += 1\n",
    "\n",
    "            if grid_2[i][k] >= grid_2[i][j]:\n",
    "                break\n",
    "\n",
    "        # right\n",
    "        for k in range(j+1, len(grid_2)):\n",
    "            right_visible_count += 1\n",
    "\n",
    "            if grid_2[i][k] >= grid_2[i][j]:\n",
    "                break\n",
    "\n",
    "        # up\n",
    "        for k in range(i-1, -1, -1):\n",
    "            up_visible_count += 1\n",
    "\n",
    "            if grid_2[k][j] >= grid_2[i][j]:\n",
    "                break\n",
    "\n",
    "        # down\n",
    "        for k in range(i+1, len(grid_2)):\n",
    "            down_visible_count += 1\n",
    "\n",
    "            if grid_2[k][j] >= grid_2[i][j]:\n",
    "                break\n",
    "\n",
    "        scores.append(left_visible_count * right_visible_count * up_visible_count * down_visible_count)"
   ],
   "metadata": {
    "collapsed": false,
    "pycharm": {
     "name": "#%%\n"
    }
   }
  },
  {
   "cell_type": "code",
   "execution_count": 6,
   "outputs": [
    {
     "name": "stdout",
     "output_type": "stream",
     "text": [
      "252000\n"
     ]
    }
   ],
   "source": [
    "print(sorted(scores)[-1])"
   ],
   "metadata": {
    "collapsed": false,
    "pycharm": {
     "name": "#%%\n"
    }
   }
  }
 ],
 "metadata": {
  "kernelspec": {
   "display_name": "Python 3",
   "language": "python",
   "name": "python3"
  },
  "language_info": {
   "codemirror_mode": {
    "name": "ipython",
    "version": 2
   },
   "file_extension": ".py",
   "mimetype": "text/x-python",
   "name": "python",
   "nbconvert_exporter": "python",
   "pygments_lexer": "ipython2",
   "version": "2.7.6"
  }
 },
 "nbformat": 4,
 "nbformat_minor": 0
}