{
 "cells": [
  {
   "cell_type": "markdown",
   "source": [
    "# Part 1"
   ],
   "metadata": {
    "collapsed": false,
    "pycharm": {
     "name": "#%% md\n"
    }
   }
  },
  {
   "cell_type": "code",
   "execution_count": 1,
   "outputs": [],
   "source": [
    "grid = []\n",
    "\n",
    "with open('data/day-8.data') as f:\n",
    "    lines = f.readlines()\n",
    "\n",
    "    for line in lines:\n",
    "        ids = [c for c in line.strip()]\n",
    "        grid.append(ids)"
   ],
   "metadata": {
    "collapsed": false,
    "pycharm": {
     "name": "#%%\n"
    }
   }
  },
  {
   "cell_type": "code",
   "execution_count": 2,
   "outputs": [],
   "source": [
    "visible_indices = set()\n",
    "\n",
    "for i in range(len(grid)):\n",
    "    for j in range(len(grid)):\n",
    "        if i == 0 or i == len(grid) - 1 or j == 0 or j == len(grid) - 1:\n",
    "            visible_indices.add(i*len(grid) + j)\n",
    "        else:\n",
    "            # left\n",
    "            visible = True\n",
    "\n",
    "            for k in range(j):\n",
    "                if grid[i][k] >= grid[i][j]:\n",
    "                    visible = False\n",
    "                    break\n",
    "\n",
    "            if visible: visible_indices.add(i*len(grid) + j)\n",
    "\n",
    "            # right\n",
    "            visible = True\n",
    "\n",
    "            for k in range(len(grid) - 1, j, -1):\n",
    "                if grid[i][k] >= grid[i][j]:\n",
    "                    visible = False\n",
    "                    break\n",
    "\n",
    "            if visible: visible_indices.add(i*len(grid) + j)\n",
    "\n",
    "            # top\n",
    "            visible = True\n",
    "\n",
    "            for k in range(j):\n",
    "                if grid[k][i] >= grid[j][i]:\n",
    "                    visible = False\n",
    "                    break\n",
    "\n",
    "            if visible: visible_indices.add(j*len(grid) + i)\n",
    "\n",
    "            # bottom\n",
    "            visible = True\n",
    "\n",
    "            for k in range(len(grid)-1, j, -1):\n",
    "                if grid[k][i] >= grid[j][i]:\n",
    "                    visible = False\n",
    "                    break\n",
    "\n",
    "            if visible: visible_indices.add(j*len(grid) + i)"
   ],
   "metadata": {
    "collapsed": false,
    "pycharm": {
     "name": "#%%\n"
    }
   }
  },
  {
   "cell_type": "code",
   "execution_count": 3,
   "outputs": [
    {
     "data": {
      "text/plain": "1560"
     },
     "execution_count": 3,
     "metadata": {},
     "output_type": "execute_result"
    }
   ],
   "source": [
    "len(visible_indices)"
   ],
   "metadata": {
    "collapsed": false,
    "pycharm": {
     "name": "#%%\n"
    }
   }
  },
  {
   "cell_type": "markdown",
   "source": [
    "# Part 2"
   ],
   "metadata": {
    "collapsed": false,
    "pycharm": {
     "name": "#%% md\n"
    }
   }
  },
  {
   "cell_type": "code",
   "execution_count": 37,
   "outputs": [],
   "source": [
    "grid_2 = []\n",
    "\n",
    "with open('data/day-8-b.data') as f:\n",
    "    lines = f.readlines()\n",
    "\n",
    "    for line in lines:\n",
    "        row_ids = [c for c in line.strip()]\n",
    "        grid_2.append(row_ids)"
   ],
   "metadata": {
    "collapsed": false,
    "pycharm": {
     "name": "#%%\n"
    }
   }
  },
  {
   "cell_type": "code",
   "execution_count": 38,
   "outputs": [],
   "source": [
    "scores = []\n",
    "\n",
    "for i in range(len(grid_2)):\n",
    "    for j in range(len(grid_2)):\n",
    "        left_visible_count = 0\n",
    "        right_visible_count = 0\n",
    "        top_visible_count = 0\n",
    "        bottom_visible_count = 0\n",
    "\n",
    "        # left\n",
    "        for k in range(j-1, -1, -1):\n",
    "            left_visible_count += 1\n",
    "\n",
    "            if grid_2[i][k] >= grid_2[i][j]:\n",
    "                break\n",
    "\n",
    "        # right\n",
    "        for k in range(j+1, len(grid_2)):\n",
    "            right_visible_count += 1\n",
    "\n",
    "            if grid_2[i][k] >= grid_2[i][j]:\n",
    "                break\n",
    "\n",
    "        # top\n",
    "        for k in range(j-1, -1, -1):\n",
    "            top_visible_count += 1\n",
    "\n",
    "            if grid_2[k][i] >= grid_2[j][i]:\n",
    "                break\n",
    "\n",
    "        # bottom\n",
    "        for k in range(j+1, len(grid_2)):\n",
    "            bottom_visible_count += 1\n",
    "\n",
    "            if grid_2[k][i] >= grid[j][i]:\n",
    "                break\n",
    "\n",
    "        scores.append(left_visible_count * right_visible_count * top_visible_count * bottom_visible_count)"
   ],
   "metadata": {
    "collapsed": false,
    "pycharm": {
     "name": "#%%\n"
    }
   }
  },
  {
   "cell_type": "code",
   "execution_count": 39,
   "outputs": [
    {
     "name": "stdout",
     "output_type": "stream",
     "text": [
      "9\n"
     ]
    }
   ],
   "source": [
    "print(sorted(scores)[-1])"
   ],
   "metadata": {
    "collapsed": false,
    "pycharm": {
     "name": "#%%\n"
    }
   }
  },
  {
   "cell_type": "code",
   "execution_count": 40,
   "outputs": [
    {
     "data": {
      "text/plain": "[0, 1, 8, 3, 0, 0, 1, 4, 1, 0, 0, 3, 1, 2, 0, 0, 1, 8, 3, 0, 0, 2, 1, 9, 0]"
     },
     "execution_count": 40,
     "metadata": {},
     "output_type": "execute_result"
    }
   ],
   "source": [
    "scores"
   ],
   "metadata": {
    "collapsed": false,
    "pycharm": {
     "name": "#%%\n"
    }
   }
  }
 ],
 "metadata": {
  "kernelspec": {
   "display_name": "Python 3",
   "language": "python",
   "name": "python3"
  },
  "language_info": {
   "codemirror_mode": {
    "name": "ipython",
    "version": 2
   },
   "file_extension": ".py",
   "mimetype": "text/x-python",
   "name": "python",
   "nbconvert_exporter": "python",
   "pygments_lexer": "ipython2",
   "version": "2.7.6"
  }
 },
 "nbformat": 4,
 "nbformat_minor": 0
}