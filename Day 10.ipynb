{
 "cells": [
  {
   "cell_type": "markdown",
   "source": [
    "# Part 1"
   ],
   "metadata": {
    "collapsed": false,
    "pycharm": {
     "name": "#%% md\n"
    }
   }
  },
  {
   "cell_type": "code",
   "execution_count": 1,
   "outputs": [],
   "source": [
    "ops = []\n",
    "\n",
    "with open('data/day-10.data') as f:\n",
    "    lines = f.readlines()\n",
    "\n",
    "    for line in lines:\n",
    "        line_parts = line.strip().split(' ')\n",
    "\n",
    "        if len(line_parts) > 1:\n",
    "            ops.append([line_parts[0], int(line_parts[1])])\n",
    "        else:\n",
    "            ops.append(line_parts)"
   ],
   "metadata": {
    "collapsed": false,
    "pycharm": {
     "name": "#%%\n"
    }
   }
  },
  {
   "cell_type": "code",
   "execution_count": 2,
   "outputs": [
    {
     "data": {
      "text/plain": "[['addx', 1],\n ['addx', 4],\n ['noop'],\n ['noop'],\n ['addx', 30],\n ['addx', -24],\n ['addx', -1],\n ['noop'],\n ['addx', 4],\n ['addx', 1],\n ['addx', 5],\n ['addx', -4],\n ['addx', 5],\n ['addx', 4],\n ['addx', 1],\n ['noop'],\n ['addx', 5],\n ['addx', -1],\n ['addx', 5],\n ['addx', 3],\n ['noop'],\n ['addx', -38],\n ['addx', 9],\n ['addx', -4],\n ['noop'],\n ['addx', 3],\n ['noop'],\n ['addx', 2],\n ['addx', 3],\n ['noop'],\n ['addx', 2],\n ['addx', 3],\n ['noop'],\n ['addx', 2],\n ['addx', 3],\n ['noop'],\n ['addx', 2],\n ['addx', -17],\n ['addx', 22],\n ['addx', -2],\n ['addx', 5],\n ['addx', 2],\n ['addx', 3],\n ['addx', -2],\n ['addx', -36],\n ['noop'],\n ['addx', 5],\n ['noop'],\n ['addx', 3],\n ['noop'],\n ['addx', 2],\n ['addx', -5],\n ['noop'],\n ['addx', 10],\n ['addx', 3],\n ['addx', -2],\n ['addx', 3],\n ['addx', 2],\n ['addx', 4],\n ['noop'],\n ['noop'],\n ['noop'],\n ['noop'],\n ['addx', 3],\n ['noop'],\n ['noop'],\n ['addx', 7],\n ['addx', 1],\n ['noop'],\n ['noop'],\n ['addx', -38],\n ['addx', 39],\n ['addx', -32],\n ['noop'],\n ['noop'],\n ['noop'],\n ['addx', 5],\n ['addx', 2],\n ['addx', -1],\n ['addx', 4],\n ['noop'],\n ['addx', 5],\n ['addx', -2],\n ['addx', 5],\n ['addx', 2],\n ['addx', -26],\n ['addx', 31],\n ['addx', -2],\n ['addx', 4],\n ['addx', 3],\n ['addx', -18],\n ['addx', 19],\n ['addx', -38],\n ['addx', 7],\n ['noop'],\n ['noop'],\n ['addx', 34],\n ['addx', -39],\n ['addx', 8],\n ['addx', 5],\n ['addx', 2],\n ['addx', 10],\n ['addx', -5],\n ['addx', -2],\n ['addx', 5],\n ['addx', 2],\n ['addx', 11],\n ['addx', -6],\n ['noop'],\n ['addx', 3],\n ['noop'],\n ['addx', 2],\n ['addx', 3],\n ['addx', -2],\n ['addx', -38],\n ['noop'],\n ['noop'],\n ['noop'],\n ['addx', 5],\n ['addx', 11],\n ['noop'],\n ['addx', -3],\n ['noop'],\n ['noop'],\n ['noop'],\n ['addx', 2],\n ['noop'],\n ['addx', -11],\n ['addx', 16],\n ['noop'],\n ['addx', 3],\n ['addx', 2],\n ['addx', 8],\n ['noop'],\n ['noop'],\n ['noop'],\n ['noop'],\n ['noop'],\n ['addx', 4],\n ['addx', 3],\n ['noop'],\n ['addx', -20],\n ['noop']]"
     },
     "execution_count": 2,
     "metadata": {},
     "output_type": "execute_result"
    }
   ],
   "source": [
    "ops"
   ],
   "metadata": {
    "collapsed": false,
    "pycharm": {
     "name": "#%%\n"
    }
   }
  },
  {
   "cell_type": "code",
   "execution_count": 3,
   "outputs": [],
   "source": [
    "def get_total_signal_strength(current_total, cycle, x):\n",
    "    if (cycle - 20) % 40 == 0:\n",
    "        total = current_total + ((cycle + 1) * x)\n",
    "        print('>>>>>>>>>>>>>>>>>>>>>>>>>>>>>>>>>>>>>>>>>>>>>>>>>>', cycle, x, total, '\\n')\n",
    "        return total\n",
    "\n",
    "    return current_total"
   ],
   "metadata": {
    "collapsed": false,
    "pycharm": {
     "name": "#%%\n"
    }
   }
  },
  {
   "cell_type": "code",
   "execution_count": 4,
   "outputs": [],
   "source": [
    "X = 1\n",
    "cycle = 0\n",
    "skipping = False\n",
    "total_signal_strength = 0\n",
    "op_index = 0\n",
    "\n",
    "while True:\n",
    "    if op_index == len(ops): break\n",
    "\n",
    "    op = ops[op_index]\n",
    "\n",
    "    if skipping:\n",
    "        X += ops[op_index][1]\n",
    "\n",
    "        skipping = False\n",
    "        op_index += 1\n",
    "    else:\n",
    "        if op[0] == 'addx':\n",
    "            skipping = True\n",
    "        else: # noop\n",
    "            op_index += 1\n",
    "\n",
    "    total_signal_strength = get_total_signal_strength(total_signal_strength, cycle, X)\n",
    "\n",
    "    cycle += 1"
   ],
   "metadata": {
    "collapsed": false,
    "pycharm": {
     "name": "#%%\n"
    }
   }
  },
  {
   "cell_type": "code",
   "execution_count": 5,
   "outputs": [],
   "source": [
    "total_signal_strength"
   ],
   "metadata": {
    "collapsed": false,
    "pycharm": {
     "name": "#%%\n"
    }
   }
  },
  {
   "cell_type": "markdown",
   "source": [
    "# Part 2"
   ],
   "metadata": {
    "collapsed": false,
    "pycharm": {
     "name": "#%% md\n"
    }
   }
  },
  {
   "cell_type": "code",
   "execution_count": 10,
   "outputs": [],
   "source": [
    "ops_2 = []\n",
    "\n",
    "with open('data/day-10-b.data') as f:\n",
    "    lines = f.readlines()\n",
    "\n",
    "    for line in lines:\n",
    "        line_parts = line.strip().split(' ')\n",
    "\n",
    "        if len(line_parts) > 1:\n",
    "            ops_2.append([line_parts[0], int(line_parts[1])])\n",
    "        else:\n",
    "            ops_2.append(line_parts)"
   ],
   "metadata": {
    "collapsed": false,
    "pycharm": {
     "name": "#%%\n"
    }
   }
  },
  {
   "cell_type": "code",
   "execution_count": 15,
   "outputs": [],
   "source": [
    "def is_sprite_visible(cycle, position):\n",
    "    num_columns = 40\n",
    "\n",
    "    row = int(cycle / num_columns)\n",
    "    col = cycle - (row * num_columns)\n",
    "\n",
    "    return abs(col - position) < 2"
   ],
   "metadata": {
    "collapsed": false,
    "pycharm": {
     "name": "#%%\n"
    }
   }
  },
  {
   "cell_type": "code",
   "execution_count": 18,
   "outputs": [],
   "source": [
    "def draw_pixel(cycle, x):\n",
    "    if (cycle % 40) == 0:\n",
    "        print('')\n",
    "\n",
    "    if is_sprite_visible(cycle, x):\n",
    "        print('#', end='')\n",
    "    else:\n",
    "        print('.', end='')"
   ],
   "metadata": {
    "collapsed": false,
    "pycharm": {
     "name": "#%%\n"
    }
   }
  },
  {
   "cell_type": "code",
   "execution_count": 19,
   "outputs": [
    {
     "name": "stdout",
     "output_type": "stream",
     "text": [
      "\n",
      "####.###...##..###..#..#.####..##..#..#.\n",
      "#....#..#.#..#.#..#.#..#.#....#..#.#..#.\n",
      "###..#..#.#....#..#.####.###..#....####.\n",
      "#....###..#.##.###..#..#.#....#.##.#..#.\n",
      "#....#....#..#.#....#..#.#....#..#.#..#.\n",
      "#....#.....###.#....#..#.#.....###.#..#."
     ]
    }
   ],
   "source": [
    "X = 1\n",
    "cycle = 0\n",
    "skipping = False\n",
    "total_signal_strength = 0\n",
    "op_index = 0\n",
    "\n",
    "\n",
    "while True:\n",
    "    if op_index == len(ops): break\n",
    "\n",
    "    op = ops_2[op_index]\n",
    "\n",
    "    draw_pixel(cycle, X)\n",
    "\n",
    "    if skipping:\n",
    "        X += ops_2[op_index][1]\n",
    "\n",
    "        skipping = False\n",
    "        op_index += 1\n",
    "    else:\n",
    "        if op[0] == 'addx':\n",
    "            skipping = True\n",
    "        else: # noop\n",
    "            op_index += 1\n",
    "\n",
    "    cycle += 1"
   ],
   "metadata": {
    "collapsed": false,
    "pycharm": {
     "name": "#%%\n"
    }
   }
  }
 ],
 "metadata": {
  "kernelspec": {
   "display_name": "Python 3",
   "language": "python",
   "name": "python3"
  },
  "language_info": {
   "codemirror_mode": {
    "name": "ipython",
    "version": 2
   },
   "file_extension": ".py",
   "mimetype": "text/x-python",
   "name": "python",
   "nbconvert_exporter": "python",
   "pygments_lexer": "ipython2",
   "version": "2.7.6"
  }
 },
 "nbformat": 4,
 "nbformat_minor": 0
}