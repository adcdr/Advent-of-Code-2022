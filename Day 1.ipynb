{
 "cells": [
  {
   "cell_type": "markdown",
   "source": [
    "# Part 1"
   ],
   "metadata": {
    "collapsed": false,
    "pycharm": {
     "name": "#%% md\n"
    }
   }
  },
  {
   "cell_type": "markdown",
   "source": [
    "Number of calories carried by each elf:"
   ],
   "metadata": {
    "collapsed": false,
    "pycharm": {
     "name": "#%% md\n"
    }
   }
  },
  {
   "cell_type": "code",
   "execution_count": 27,
   "outputs": [],
   "source": [
    "calories = []\n",
    "\n",
    "with open('./day-1.data') as f:\n",
    "    lines = f.readlines()\n",
    "\n",
    "    elf_number = 0\n",
    "    elf_calories = 0\n",
    "\n",
    "    for line in lines:\n",
    "        if line in ['\\n', '\\r\\n']:\n",
    "            if elf_calories > 0:\n",
    "                calories.append(elf_calories)\n",
    "\n",
    "            elf_calories = 0\n",
    "        else:\n",
    "            elf_calories += int(line)"
   ],
   "metadata": {
    "collapsed": false,
    "pycharm": {
     "name": "#%%\n"
    }
   }
  },
  {
   "cell_type": "code",
   "execution_count": 29,
   "outputs": [
    {
     "name": "stdout",
     "output_type": "stream",
     "text": [
      "67622\n"
     ]
    }
   ],
   "source": [
    "print(max(calories))"
   ],
   "metadata": {
    "collapsed": false,
    "pycharm": {
     "name": "#%%\n"
    }
   }
  },
  {
   "cell_type": "markdown",
   "source": [
    "# Part 2"
   ],
   "metadata": {
    "collapsed": false,
    "pycharm": {
     "name": "#%% md\n"
    }
   }
  },
  {
   "cell_type": "code",
   "execution_count": 32,
   "outputs": [
    {
     "name": "stdout",
     "output_type": "stream",
     "text": [
      "201491\n"
     ]
    }
   ],
   "source": [
    "calories.sort(reverse=True)\n",
    "\n",
    "top_3_calories_sum = calories[0] + calories[1] + calories[2]\n",
    "\n",
    "print(top_3_calories_sum)"
   ],
   "metadata": {
    "collapsed": false,
    "pycharm": {
     "name": "#%%\n"
    }
   }
  }
 ],
 "metadata": {
  "kernelspec": {
   "display_name": "Python 3",
   "language": "python",
   "name": "python3"
  },
  "language_info": {
   "codemirror_mode": {
    "name": "ipython",
    "version": 2
   },
   "file_extension": ".py",
   "mimetype": "text/x-python",
   "name": "python",
   "nbconvert_exporter": "python",
   "pygments_lexer": "ipython2",
   "version": "2.7.6"
  }
 },
 "nbformat": 4,
 "nbformat_minor": 0
}