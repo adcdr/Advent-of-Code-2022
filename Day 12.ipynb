{
 "cells": [
  {
   "cell_type": "markdown",
   "source": [
    "# Part 1"
   ],
   "metadata": {
    "collapsed": false,
    "pycharm": {
     "name": "#%% md\n"
    }
   }
  },
  {
   "cell_type": "code",
   "execution_count": 2,
   "outputs": [],
   "source": [
    "import math\n",
    "\n",
    "map = []\n",
    "\n",
    "with open('data/day-12.data') as f:\n",
    "    lines = f.readlines()\n",
    "\n",
    "    for line in lines:\n",
    "        map.append([*line.strip()])"
   ],
   "metadata": {
    "collapsed": false,
    "pycharm": {
     "name": "#%%\n"
    }
   }
  },
  {
   "cell_type": "code",
   "execution_count": 3,
   "outputs": [
    {
     "data": {
      "text/plain": "[['S', 'a', 'b', 'q', 'p', 'o', 'n', 'm'],\n ['a', 'b', 'c', 'r', 'y', 'x', 'x', 'l'],\n ['a', 'c', 'c', 's', 'z', 'E', 'x', 'k'],\n ['a', 'c', 'c', 't', 'u', 'v', 'w', 'j'],\n ['a', 'b', 'd', 'e', 'f', 'g', 'h', 'i']]"
     },
     "execution_count": 3,
     "metadata": {},
     "output_type": "execute_result"
    }
   ],
   "source": [
    "map"
   ],
   "metadata": {
    "collapsed": false,
    "pycharm": {
     "name": "#%%\n"
    }
   }
  },
  {
   "cell_type": "code",
   "execution_count": 1,
   "outputs": [],
   "source": [
    "class Node():\n",
    "    def __init__(self, x, y):\n",
    "        self.x = x\n",
    "        self.y = y\n",
    "        self.f = 0\n",
    "\n",
    "    def get_cost(self, start_x, start_y):\n",
    "        x_delta = start_x - self.x\n",
    "        y_delta = start_y - self.y\n",
    "\n",
    "        return (x_delta * x_delta) + (y_delta * y_delta)"
   ],
   "metadata": {
    "collapsed": false,
    "pycharm": {
     "name": "#%%\n"
    }
   }
  },
  {
   "cell_type": "code",
   "execution_count": null,
   "outputs": [],
   "source": [
    "def a_star():\n",
    "    open_list = [[0, 0]]\n",
    "    closed_list = []\n",
    "\n",
    "    while len(open_list) > 0:\n"
   ],
   "metadata": {
    "collapsed": false,
    "pycharm": {
     "name": "#%%\n"
    }
   }
  }
 ],
 "metadata": {
  "kernelspec": {
   "display_name": "Python 3",
   "language": "python",
   "name": "python3"
  },
  "language_info": {
   "codemirror_mode": {
    "name": "ipython",
    "version": 2
   },
   "file_extension": ".py",
   "mimetype": "text/x-python",
   "name": "python",
   "nbconvert_exporter": "python",
   "pygments_lexer": "ipython2",
   "version": "2.7.6"
  }
 },
 "nbformat": 4,
 "nbformat_minor": 0
}