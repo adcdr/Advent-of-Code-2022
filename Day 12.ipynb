{
 "cells": [
  {
   "cell_type": "markdown",
   "source": [
    "# Part 1"
   ],
   "metadata": {
    "collapsed": false,
    "pycharm": {
     "name": "#%% md\n"
    }
   }
  },
  {
   "cell_type": "code",
   "execution_count": 22,
   "outputs": [],
   "source": [
    "grid = []\n",
    "\n",
    "def read_data():\n",
    "    data = []\n",
    "\n",
    "    with open('data/day-12.data') as f:\n",
    "        lines = f.readlines()\n",
    "\n",
    "        for line in lines:\n",
    "            data.append([*line.strip()])\n",
    "\n",
    "    return data\n",
    "\n",
    "grid = read_data()"
   ],
   "metadata": {
    "collapsed": false,
    "pycharm": {
     "name": "#%%\n"
    }
   }
  },
  {
   "cell_type": "code",
   "execution_count": 2,
   "outputs": [],
   "source": [
    "class Node:\n",
    "    def __init__(self, position, label, parent, columns):\n",
    "        self.position = position\n",
    "        self.id = position[0]*columns + position[1]\n",
    "        self.label = label\n",
    "        self.parent = parent\n",
    "\n",
    "        self.f = 0\n",
    "        self.g = 0\n",
    "        self.h = 0\n",
    "\n",
    "    def __eq__(self, other):\n",
    "        return self.id == other.id\n",
    "\n",
    "    def __lt__(self, other):\n",
    "        return self.f < other.f\n",
    "\n",
    "    def __gt__(self, other):\n",
    "        return self.f > other.f"
   ],
   "metadata": {
    "collapsed": false,
    "pycharm": {
     "name": "#%%\n"
    }
   }
  },
  {
   "cell_type": "code",
   "execution_count": 3,
   "outputs": [],
   "source": [
    "def get_path(current_node):\n",
    "    path = []\n",
    "    current = current_node\n",
    "\n",
    "    while current:\n",
    "        path.append(current.position)\n",
    "        current = current.parent\n",
    "\n",
    "    return path[::-1]  # Return reversed path"
   ],
   "metadata": {
    "collapsed": false,
    "pycharm": {
     "name": "#%%\n"
    }
   }
  },
  {
   "cell_type": "code",
   "execution_count": 4,
   "outputs": [],
   "source": [
    "def is_accessible(source_label, dest_label):\n",
    "    if dest_label == 'E': dest_label = 'z'\n",
    "\n",
    "    return source_label == 'S' or ord(source_label) - ord(dest_label) > -2"
   ],
   "metadata": {
    "collapsed": false,
    "pycharm": {
     "name": "#%%\n"
    }
   }
  },
  {
   "cell_type": "code",
   "execution_count": 5,
   "outputs": [],
   "source": [
    "def get_manhattan_dist(pos_1, pos_2):\n",
    "    return abs(pos_1[0] - pos_2[0]) + abs(pos_1[1] - pos_2[1])\n",
    "\n",
    "\n",
    "def get_euclidean_dist(pos_1, pos_2):\n",
    "    x_dist = pos_1[0] - pos_2[0]\n",
    "    y_dist = pos_1[1] - pos_2[1]\n",
    "\n",
    "    return x_dist**2 + y_dist**2"
   ],
   "metadata": {
    "collapsed": false,
    "pycharm": {
     "name": "#%%\n"
    }
   }
  },
  {
   "cell_type": "code",
   "execution_count": 6,
   "outputs": [
    {
     "name": "stdout",
     "output_type": "stream",
     "text": [
      "Target reached!\n",
      "Time elapsed: 0.0\n",
      "[(0, 0), (0, 1), (0, 2), (1, 2), (2, 2), (3, 2), (4, 2), (4, 3), (4, 4), (4, 5), (4, 6), (4, 7), (3, 7), (2, 7), (1, 7), (0, 7), (0, 6), (0, 5), (0, 4), (0, 3), (1, 3), (2, 3), (3, 3), (3, 4), (3, 5), (3, 6), (2, 6), (1, 6), (1, 5), (1, 4), (2, 4), (2, 5)]\n"
     ]
    }
   ],
   "source": [
    "import heapq\n",
    "import time\n",
    "\n",
    "\n",
    "\n",
    "'''\n",
    "https://medium.com/@nicholas.w.swift/easy-a-star-pathfinding-7e6689c7f7b2\n",
    "https://gist.github.com/ryancollingwood/32446307e976a11a1185a5394d6657bc\n",
    "'''\n",
    "def a_star():\n",
    "    start_time = time.time()\n",
    "\n",
    "    global grid\n",
    "\n",
    "    columns = len(grid[0])\n",
    "    rows = len(grid)\n",
    "\n",
    "    start_node = None\n",
    "\n",
    "    for i, row in enumerate(grid):\n",
    "        if start_node: break\n",
    "\n",
    "        for j, item in enumerate(row):\n",
    "            if item == 'S':\n",
    "                start_node = Node((i, j), grid[i][j], None, columns)\n",
    "                break\n",
    "\n",
    "    end_node = None\n",
    "\n",
    "    for i, row in enumerate(grid):\n",
    "        if end_node: break\n",
    "\n",
    "        for j, item in enumerate(row):\n",
    "            if item == 'E':\n",
    "                end_node = Node((i, j), grid[i][j], None, columns)\n",
    "                break\n",
    "\n",
    "    open_list = []\n",
    "    closed_ids_set = set()\n",
    "\n",
    "    heapq.heapify(open_list)\n",
    "    heapq.heappush(open_list, start_node)\n",
    "\n",
    "    outer_iterations = 0\n",
    "    max_iterations = 1000000\n",
    "\n",
    "    while len(open_list) > 0:\n",
    "        outer_iterations += 1\n",
    "\n",
    "        if outer_iterations > max_iterations:\n",
    "            print('Exceeded max iterations!')\n",
    "            return get_path(current_node)\n",
    "\n",
    "        current_node = heapq.heappop(open_list)\n",
    "        closed_ids_set.add(current_node.id)\n",
    "\n",
    "        if current_node.label == 'E':\n",
    "            path = get_path(current_node)\n",
    "\n",
    "            print('Target reached!')\n",
    "            print('Time elapsed:', time.time() - start_time)\n",
    "            print(path)\n",
    "\n",
    "            return path\n",
    "\n",
    "        adjacent_nodes = []\n",
    "        position_deltas = [(0, 1), (0, -1), (1, 0), (-1, 0)]\n",
    "\n",
    "        for position_delta in position_deltas:\n",
    "            adjacent_position = (\n",
    "                current_node.position[0] + position_delta[0],\n",
    "                current_node.position[1] + position_delta[1]\n",
    "            )\n",
    "\n",
    "            if adjacent_position[0] < 0 or adjacent_position[1] < 0 \\\n",
    "                    or adjacent_position[0] > rows - 1 or adjacent_position[1] > columns - 1:\n",
    "                continue\n",
    "\n",
    "            adjacent_label = grid[adjacent_position[0]][adjacent_position[1]]\n",
    "\n",
    "            if not is_accessible(current_node.label, adjacent_label):\n",
    "                continue\n",
    "\n",
    "            new_node = Node(adjacent_position, adjacent_label, current_node, columns)\n",
    "\n",
    "            adjacent_nodes.append(new_node)\n",
    "\n",
    "        for adjacent_node in adjacent_nodes:\n",
    "            if adjacent_node.id in closed_ids_set: continue\n",
    "\n",
    "            h = get_manhattan_dist(adjacent_node.position, end_node.position)\n",
    "            g = current_node.g + 1\n",
    "            adjacent_node.f = g + h\n",
    "            adjacent_node.g = g\n",
    "\n",
    "            adj_node_in_open_list = next((n for n in open_list if n == adjacent_node and n.f <= adjacent_node.f), None)\n",
    "\n",
    "            if adj_node_in_open_list is not None: continue\n",
    "\n",
    "            heapq.heappush(open_list, adjacent_node)\n",
    "\n",
    "    print('Time elapsed:', time.time() - start_time)\n",
    "    print('Path not found.')\n",
    "\n",
    "path_nodes = a_star()"
   ],
   "metadata": {
    "collapsed": false,
    "pycharm": {
     "name": "#%%\n"
    }
   }
  },
  {
   "cell_type": "code",
   "execution_count": 7,
   "outputs": [
    {
     "data": {
      "text/plain": "31"
     },
     "execution_count": 7,
     "metadata": {},
     "output_type": "execute_result"
    }
   ],
   "source": [
    "len(path_nodes) - 1"
   ],
   "metadata": {
    "collapsed": false,
    "pycharm": {
     "name": "#%%\n"
    }
   }
  },
  {
   "cell_type": "markdown",
   "source": [
    "# Part 2"
   ],
   "metadata": {
    "collapsed": false,
    "pycharm": {
     "name": "#%% md\n"
    }
   }
  },
  {
   "cell_type": "code",
   "execution_count": 31,
   "outputs": [],
   "source": [
    "def is_accessible_2(source_label, dest_label):\n",
    "    if source_label == 'E': source_label = 'z'\n",
    "    if dest_label == '~': dest_label = 'a'\n",
    "\n",
    "    return source_label == 'E' or ord(source_label) - ord(dest_label) < 2"
   ],
   "metadata": {
    "collapsed": false,
    "pycharm": {
     "name": "#%%\n"
    }
   }
  },
  {
   "cell_type": "code",
   "execution_count": 44,
   "outputs": [],
   "source": [
    "def a_star_2(end_position):\n",
    "    global grid\n",
    "\n",
    "    columns = len(grid[0])\n",
    "    rows = len(grid)\n",
    "\n",
    "    start_node = None\n",
    "\n",
    "    for i, row in enumerate(grid):\n",
    "        if start_node: break\n",
    "\n",
    "        for j, item in enumerate(row):\n",
    "            if item == 'E':\n",
    "                start_node = Node((i, j), grid[i][j], None, columns)\n",
    "                break\n",
    "\n",
    "    end_node = Node(end_position, 'X', None, columns)\n",
    "\n",
    "    open_list = []\n",
    "    closed_ids_set = set()\n",
    "\n",
    "    heapq.heapify(open_list)\n",
    "    heapq.heappush(open_list, start_node)\n",
    "\n",
    "    outer_iterations = 0\n",
    "    max_iterations = 1000000\n",
    "\n",
    "    while open_list:\n",
    "        outer_iterations += 1\n",
    "\n",
    "        if outer_iterations > max_iterations:\n",
    "            print('Exceeded max iterations!')\n",
    "            return get_path(current_node)\n",
    "\n",
    "        current_node = heapq.heappop(open_list)\n",
    "        closed_ids_set.add(current_node.id)\n",
    "\n",
    "        if current_node.label == '~':\n",
    "            path = get_path(current_node)\n",
    "\n",
    "            # print('Target reached!', len(path) - 1)\n",
    "\n",
    "            return len(path) - 1\n",
    "\n",
    "        adjacent_nodes = []\n",
    "        position_deltas = [(0, 1), (0, -1), (1, 0), (-1, 0)]\n",
    "\n",
    "        for position_delta in position_deltas:\n",
    "            adjacent_position = (\n",
    "                current_node.position[0] + position_delta[0],\n",
    "                current_node.position[1] + position_delta[1]\n",
    "            )\n",
    "\n",
    "            if adjacent_position[0] < 0 or adjacent_position[1] < 0 \\\n",
    "                    or adjacent_position[0] > rows - 1 or adjacent_position[1] > columns - 1:\n",
    "                continue\n",
    "\n",
    "            adjacent_label = grid[adjacent_position[0]][adjacent_position[1]]\n",
    "\n",
    "            if not is_accessible_2(current_node.label, adjacent_label):\n",
    "                continue\n",
    "\n",
    "            new_node = Node(adjacent_position, adjacent_label, current_node, columns)\n",
    "\n",
    "            adjacent_nodes.append(new_node)\n",
    "\n",
    "        for adjacent_node in adjacent_nodes:\n",
    "            if adjacent_node.id in closed_ids_set: continue\n",
    "\n",
    "            h = get_manhattan_dist(adjacent_node.position, end_node.position)\n",
    "            g = current_node.g + 1\n",
    "            adjacent_node.f = g + h\n",
    "            adjacent_node.g = g\n",
    "\n",
    "            adj_node_in_open_list = next((n for n in open_list if n == adjacent_node and n.f <= adjacent_node.f), None)\n",
    "\n",
    "            if adj_node_in_open_list is not None: continue\n",
    "\n",
    "            heapq.heappush(open_list, adjacent_node)\n",
    "\n",
    "    # print('Path not found.')\n",
    "    return 9999999999999"
   ],
   "metadata": {
    "collapsed": false,
    "pycharm": {
     "name": "#%%\n"
    }
   }
  },
  {
   "cell_type": "code",
   "execution_count": 45,
   "outputs": [
    {
     "ename": "KeyboardInterrupt",
     "evalue": "",
     "output_type": "error",
     "traceback": [
      "\u001B[1;31m---------------------------------------------------------------------------\u001B[0m",
      "\u001B[1;31mKeyboardInterrupt\u001B[0m                         Traceback (most recent call last)",
      "Cell \u001B[1;32mIn[45], line 8\u001B[0m\n\u001B[0;32m      6\u001B[0m         \u001B[38;5;28;01mif\u001B[39;00m grid[i][j] \u001B[38;5;241m==\u001B[39m \u001B[38;5;124m'\u001B[39m\u001B[38;5;124ma\u001B[39m\u001B[38;5;124m'\u001B[39m:\n\u001B[0;32m      7\u001B[0m             grid[i][j] \u001B[38;5;241m=\u001B[39m \u001B[38;5;124m'\u001B[39m\u001B[38;5;124m~\u001B[39m\u001B[38;5;124m'\u001B[39m\n\u001B[1;32m----> 8\u001B[0m             path_lengths\u001B[38;5;241m.\u001B[39mappend(\u001B[43ma_star_2\u001B[49m\u001B[43m(\u001B[49m\u001B[43m(\u001B[49m\u001B[43mi\u001B[49m\u001B[43m,\u001B[49m\u001B[43m \u001B[49m\u001B[43mj\u001B[49m\u001B[43m)\u001B[49m\u001B[43m)\u001B[49m)\n\u001B[0;32m      9\u001B[0m             grid[i][j] \u001B[38;5;241m=\u001B[39m \u001B[38;5;124m'\u001B[39m\u001B[38;5;124m|\u001B[39m\u001B[38;5;124m'\u001B[39m\n\u001B[0;32m     11\u001B[0m path_lengths\n",
      "Cell \u001B[1;32mIn[44], line 75\u001B[0m, in \u001B[0;36ma_star_2\u001B[1;34m(end_position)\u001B[0m\n\u001B[0;32m     72\u001B[0m adjacent_node\u001B[38;5;241m.\u001B[39mf \u001B[38;5;241m=\u001B[39m g \u001B[38;5;241m+\u001B[39m h\n\u001B[0;32m     73\u001B[0m adjacent_node\u001B[38;5;241m.\u001B[39mg \u001B[38;5;241m=\u001B[39m g\n\u001B[1;32m---> 75\u001B[0m adj_node_in_open_list \u001B[38;5;241m=\u001B[39m \u001B[38;5;28;43mnext\u001B[39;49m\u001B[43m(\u001B[49m\u001B[43m(\u001B[49m\u001B[43mn\u001B[49m\u001B[43m \u001B[49m\u001B[38;5;28;43;01mfor\u001B[39;49;00m\u001B[43m \u001B[49m\u001B[43mn\u001B[49m\u001B[43m \u001B[49m\u001B[38;5;129;43;01min\u001B[39;49;00m\u001B[43m \u001B[49m\u001B[43mopen_list\u001B[49m\u001B[43m \u001B[49m\u001B[38;5;28;43;01mif\u001B[39;49;00m\u001B[43m \u001B[49m\u001B[43mn\u001B[49m\u001B[43m \u001B[49m\u001B[38;5;241;43m==\u001B[39;49m\u001B[43m \u001B[49m\u001B[43madjacent_node\u001B[49m\u001B[43m \u001B[49m\u001B[38;5;129;43;01mand\u001B[39;49;00m\u001B[43m \u001B[49m\u001B[43mn\u001B[49m\u001B[38;5;241;43m.\u001B[39;49m\u001B[43mf\u001B[49m\u001B[43m \u001B[49m\u001B[38;5;241;43m<\u001B[39;49m\u001B[38;5;241;43m=\u001B[39;49m\u001B[43m \u001B[49m\u001B[43madjacent_node\u001B[49m\u001B[38;5;241;43m.\u001B[39;49m\u001B[43mf\u001B[49m\u001B[43m)\u001B[49m\u001B[43m,\u001B[49m\u001B[43m \u001B[49m\u001B[38;5;28;43;01mNone\u001B[39;49;00m\u001B[43m)\u001B[49m\n\u001B[0;32m     77\u001B[0m \u001B[38;5;28;01mif\u001B[39;00m adj_node_in_open_list \u001B[38;5;129;01mis\u001B[39;00m \u001B[38;5;129;01mnot\u001B[39;00m \u001B[38;5;28;01mNone\u001B[39;00m: \u001B[38;5;28;01mcontinue\u001B[39;00m\n\u001B[0;32m     79\u001B[0m heapq\u001B[38;5;241m.\u001B[39mheappush(open_list, adjacent_node)\n",
      "Cell \u001B[1;32mIn[44], line 75\u001B[0m, in \u001B[0;36m<genexpr>\u001B[1;34m(.0)\u001B[0m\n\u001B[0;32m     72\u001B[0m adjacent_node\u001B[38;5;241m.\u001B[39mf \u001B[38;5;241m=\u001B[39m g \u001B[38;5;241m+\u001B[39m h\n\u001B[0;32m     73\u001B[0m adjacent_node\u001B[38;5;241m.\u001B[39mg \u001B[38;5;241m=\u001B[39m g\n\u001B[1;32m---> 75\u001B[0m adj_node_in_open_list \u001B[38;5;241m=\u001B[39m \u001B[38;5;28mnext\u001B[39m((n \u001B[38;5;28;01mfor\u001B[39;00m n \u001B[38;5;129;01min\u001B[39;00m open_list \u001B[38;5;28;01mif\u001B[39;00m \u001B[43mn\u001B[49m\u001B[43m \u001B[49m\u001B[38;5;241;43m==\u001B[39;49m\u001B[43m \u001B[49m\u001B[43madjacent_node\u001B[49m \u001B[38;5;129;01mand\u001B[39;00m n\u001B[38;5;241m.\u001B[39mf \u001B[38;5;241m<\u001B[39m\u001B[38;5;241m=\u001B[39m adjacent_node\u001B[38;5;241m.\u001B[39mf), \u001B[38;5;28;01mNone\u001B[39;00m)\n\u001B[0;32m     77\u001B[0m \u001B[38;5;28;01mif\u001B[39;00m adj_node_in_open_list \u001B[38;5;129;01mis\u001B[39;00m \u001B[38;5;129;01mnot\u001B[39;00m \u001B[38;5;28;01mNone\u001B[39;00m: \u001B[38;5;28;01mcontinue\u001B[39;00m\n\u001B[0;32m     79\u001B[0m heapq\u001B[38;5;241m.\u001B[39mheappush(open_list, adjacent_node)\n",
      "Cell \u001B[1;32mIn[2], line 13\u001B[0m, in \u001B[0;36mNode.__eq__\u001B[1;34m(self, other)\u001B[0m\n\u001B[0;32m     12\u001B[0m \u001B[38;5;28;01mdef\u001B[39;00m \u001B[38;5;21m__eq__\u001B[39m(\u001B[38;5;28mself\u001B[39m, other):\n\u001B[1;32m---> 13\u001B[0m     \u001B[38;5;28;01mreturn\u001B[39;00m \u001B[38;5;28;43mself\u001B[39;49m\u001B[38;5;241;43m.\u001B[39;49m\u001B[43mid\u001B[49m \u001B[38;5;241m==\u001B[39m other\u001B[38;5;241m.\u001B[39mid\n",
      "\u001B[1;31mKeyboardInterrupt\u001B[0m: "
     ]
    }
   ],
   "source": [
    "grid = read_data()\n",
    "path_lengths = []\n",
    "\n",
    "for i in range(len(grid)):\n",
    "    for j in range(len(grid[i])):\n",
    "        if grid[i][j] == 'a':\n",
    "            grid[i][j] = '~'\n",
    "            path_lengths.append(a_star_2((i, j)))\n",
    "            grid[i][j] = '|'\n",
    "\n",
    "path_lengths"
   ],
   "metadata": {
    "collapsed": false,
    "pycharm": {
     "name": "#%%\n"
    }
   }
  },
  {
   "cell_type": "code",
   "execution_count": 43,
   "outputs": [
    {
     "data": {
      "text/plain": "[363,\n 364,\n 364,\n 365,\n 365,\n 366,\n 366,\n 367,\n 367,\n 368,\n 368,\n 369,\n 369,\n 370,\n 371,\n 371,\n 371,\n 372,\n 372,\n 372,\n 373,\n 373,\n 373,\n 373,\n 373,\n 374,\n 374,\n 374,\n 374,\n 374,\n 374,\n 375,\n 375,\n 375,\n 375,\n 375,\n 375,\n 375,\n 376,\n 376,\n 376,\n 376,\n 376,\n 376,\n 376,\n 376,\n 377,\n 377,\n 377,\n 377,\n 377,\n 377,\n 378,\n 378,\n 378,\n 378,\n 379,\n 379,\n 379,\n 380,\n 380,\n 381,\n 381,\n 382,\n 382,\n 382,\n 383,\n 383,\n 383,\n 383,\n 384,\n 384,\n 384,\n 384,\n 384,\n 385,\n 385,\n 385,\n 385,\n 385,\n 385,\n 386,\n 386,\n 386,\n 386,\n 386,\n 386,\n 386,\n 387,\n 387,\n 387,\n 387,\n 387,\n 387,\n 387,\n 388,\n 388,\n 388,\n 388,\n 388,\n 388,\n 388,\n 388,\n 388,\n 389,\n 389,\n 389,\n 389,\n 389,\n 389,\n 389,\n 389,\n 389,\n 389,\n 389,\n 389,\n 389,\n 390,\n 390,\n 390,\n 390,\n 390,\n 390,\n 390,\n 390,\n 390,\n 390,\n 390,\n 391,\n 391,\n 391,\n 391,\n 391,\n 391,\n 391,\n 391,\n 392,\n 392,\n 392,\n 392,\n 392,\n 392,\n 392,\n 392,\n 392,\n 393,\n 393,\n 393,\n 393,\n 393,\n 393,\n 393,\n 393,\n 393,\n 394,\n 394,\n 394,\n 394,\n 394,\n 394,\n 394,\n 394,\n 394,\n 394,\n 395,\n 395,\n 395,\n 395,\n 395,\n 395,\n 395,\n 395,\n 395,\n 396,\n 396,\n 396,\n 396,\n 396,\n 396,\n 397,\n 397,\n 397,\n 397,\n 397,\n 397,\n 397,\n 397,\n 397,\n 398,\n 398,\n 398,\n 398,\n 398,\n 398,\n 399,\n 399,\n 399,\n 400,\n 410,\n 411,\n 411,\n 411,\n 412,\n 412,\n 412,\n 412,\n 413,\n 413,\n 413,\n 413,\n 414,\n 414,\n 414,\n 415,\n 415,\n 415,\n 415,\n 415,\n 416,\n 416,\n 416,\n 416,\n 417,\n 417,\n 417,\n 417,\n 417,\n 417,\n 418,\n 418,\n 418,\n 418,\n 418,\n 419,\n 419,\n 419,\n 419,\n 419,\n 420,\n 420,\n 420,\n 421,\n 9999999999999,\n 9999999999999,\n 9999999999999,\n 9999999999999,\n 9999999999999,\n 9999999999999,\n 9999999999999,\n 9999999999999,\n 9999999999999,\n 9999999999999,\n 9999999999999,\n 9999999999999,\n 9999999999999,\n 9999999999999,\n 9999999999999,\n 9999999999999,\n 9999999999999,\n 9999999999999,\n 9999999999999,\n 9999999999999,\n 9999999999999,\n 9999999999999,\n 9999999999999,\n 9999999999999,\n 9999999999999,\n 9999999999999,\n 9999999999999,\n 9999999999999,\n 9999999999999,\n 9999999999999,\n 9999999999999,\n 9999999999999,\n 9999999999999,\n 9999999999999,\n 9999999999999,\n 9999999999999,\n 9999999999999,\n 9999999999999,\n 9999999999999,\n 9999999999999,\n 9999999999999,\n 9999999999999,\n 9999999999999,\n 9999999999999,\n 9999999999999,\n 9999999999999,\n 9999999999999,\n 9999999999999,\n 9999999999999,\n 9999999999999,\n 9999999999999,\n 9999999999999,\n 9999999999999,\n 9999999999999,\n 9999999999999,\n 9999999999999,\n 9999999999999,\n 9999999999999,\n 9999999999999,\n 9999999999999,\n 9999999999999,\n 9999999999999,\n 9999999999999,\n 9999999999999,\n 9999999999999,\n 9999999999999,\n 9999999999999,\n 9999999999999,\n 9999999999999,\n 9999999999999,\n 9999999999999,\n 9999999999999,\n 9999999999999,\n 9999999999999,\n 9999999999999,\n 9999999999999,\n 9999999999999,\n 9999999999999,\n 9999999999999,\n 9999999999999,\n 9999999999999,\n 9999999999999,\n 9999999999999,\n 9999999999999,\n 9999999999999,\n 9999999999999,\n 9999999999999,\n 9999999999999,\n 9999999999999,\n 9999999999999,\n 9999999999999,\n 9999999999999,\n 9999999999999,\n 9999999999999,\n 9999999999999,\n 9999999999999,\n 9999999999999,\n 9999999999999,\n 9999999999999,\n 9999999999999,\n 9999999999999,\n 9999999999999,\n 9999999999999,\n 9999999999999,\n 9999999999999,\n 9999999999999,\n 9999999999999,\n 9999999999999,\n 9999999999999,\n 9999999999999,\n 9999999999999,\n 9999999999999,\n 9999999999999,\n 9999999999999,\n 9999999999999,\n 9999999999999,\n 9999999999999,\n 9999999999999,\n 9999999999999,\n 9999999999999,\n 9999999999999,\n 9999999999999,\n 9999999999999,\n 9999999999999,\n 9999999999999,\n 9999999999999,\n 9999999999999,\n 9999999999999,\n 9999999999999,\n 9999999999999,\n 9999999999999,\n 9999999999999,\n 9999999999999,\n 9999999999999,\n 9999999999999,\n 9999999999999,\n 9999999999999,\n 9999999999999,\n 9999999999999,\n 9999999999999,\n 9999999999999,\n 9999999999999,\n 9999999999999,\n 9999999999999,\n 9999999999999,\n 9999999999999,\n 9999999999999,\n 9999999999999,\n 9999999999999,\n 9999999999999,\n 9999999999999,\n 9999999999999,\n 9999999999999,\n 9999999999999,\n 9999999999999,\n 9999999999999,\n 9999999999999,\n 9999999999999,\n 9999999999999,\n 9999999999999,\n 9999999999999,\n 9999999999999,\n 9999999999999,\n 9999999999999,\n 9999999999999,\n 9999999999999,\n 9999999999999,\n 9999999999999,\n 9999999999999,\n 9999999999999,\n 9999999999999,\n 9999999999999,\n 9999999999999,\n 9999999999999,\n 9999999999999,\n 9999999999999,\n 9999999999999,\n 9999999999999,\n 9999999999999,\n 9999999999999,\n 9999999999999,\n 9999999999999,\n 9999999999999,\n 9999999999999,\n 9999999999999,\n 9999999999999,\n 9999999999999,\n 9999999999999,\n 9999999999999,\n 9999999999999,\n 9999999999999,\n 9999999999999,\n 9999999999999,\n 9999999999999,\n 9999999999999,\n 9999999999999,\n 9999999999999,\n 9999999999999,\n 9999999999999,\n 9999999999999,\n 9999999999999,\n 9999999999999,\n 9999999999999,\n 9999999999999,\n 9999999999999,\n 9999999999999,\n 9999999999999,\n 9999999999999,\n 9999999999999,\n 9999999999999,\n 9999999999999,\n 9999999999999,\n 9999999999999,\n 9999999999999,\n 9999999999999,\n 9999999999999,\n 9999999999999,\n 9999999999999,\n 9999999999999,\n 9999999999999,\n 9999999999999,\n 9999999999999,\n 9999999999999,\n 9999999999999,\n 9999999999999,\n 9999999999999,\n 9999999999999,\n 9999999999999,\n 9999999999999,\n 9999999999999,\n 9999999999999,\n 9999999999999,\n 9999999999999,\n 9999999999999,\n 9999999999999,\n 9999999999999,\n 9999999999999,\n 9999999999999,\n 9999999999999,\n 9999999999999,\n 9999999999999,\n 9999999999999,\n 9999999999999,\n 9999999999999,\n 9999999999999,\n 9999999999999,\n 9999999999999,\n 9999999999999,\n 9999999999999,\n 9999999999999,\n 9999999999999,\n 9999999999999,\n 9999999999999,\n 9999999999999,\n 9999999999999,\n 9999999999999,\n 9999999999999,\n 9999999999999,\n 9999999999999,\n 9999999999999,\n 9999999999999,\n 9999999999999,\n 9999999999999,\n 9999999999999,\n 9999999999999,\n 9999999999999,\n 9999999999999,\n 9999999999999,\n 9999999999999,\n 9999999999999,\n 9999999999999,\n 9999999999999,\n 9999999999999,\n 9999999999999,\n 9999999999999,\n 9999999999999,\n 9999999999999,\n 9999999999999,\n 9999999999999,\n 9999999999999,\n 9999999999999,\n 9999999999999,\n 9999999999999,\n 9999999999999,\n 9999999999999,\n 9999999999999,\n 9999999999999,\n 9999999999999,\n 9999999999999,\n 9999999999999,\n 9999999999999,\n 9999999999999,\n 9999999999999,\n 9999999999999,\n 9999999999999,\n 9999999999999,\n 9999999999999,\n 9999999999999,\n 9999999999999,\n 9999999999999,\n 9999999999999,\n 9999999999999,\n 9999999999999,\n 9999999999999,\n 9999999999999,\n 9999999999999,\n 9999999999999,\n 9999999999999,\n 9999999999999,\n 9999999999999,\n 9999999999999,\n 9999999999999,\n 9999999999999,\n 9999999999999,\n 9999999999999,\n 9999999999999,\n 9999999999999,\n 9999999999999,\n 9999999999999,\n 9999999999999,\n 9999999999999,\n 9999999999999,\n 9999999999999,\n 9999999999999,\n 9999999999999,\n 9999999999999,\n 9999999999999,\n 9999999999999,\n 9999999999999,\n 9999999999999,\n 9999999999999,\n 9999999999999,\n 9999999999999,\n 9999999999999,\n 9999999999999,\n 9999999999999,\n 9999999999999,\n 9999999999999,\n 9999999999999,\n 9999999999999,\n 9999999999999,\n 9999999999999,\n 9999999999999,\n 9999999999999,\n 9999999999999,\n 9999999999999,\n 9999999999999,\n 9999999999999,\n 9999999999999,\n 9999999999999,\n 9999999999999,\n 9999999999999,\n 9999999999999,\n 9999999999999,\n 9999999999999,\n 9999999999999,\n 9999999999999,\n 9999999999999,\n 9999999999999,\n 9999999999999,\n 9999999999999,\n 9999999999999,\n 9999999999999,\n 9999999999999,\n 9999999999999,\n 9999999999999,\n 9999999999999,\n 9999999999999,\n 9999999999999,\n 9999999999999,\n 9999999999999,\n 9999999999999,\n 9999999999999,\n 9999999999999,\n 9999999999999,\n 9999999999999,\n 9999999999999,\n 9999999999999,\n 9999999999999,\n 9999999999999,\n 9999999999999,\n 9999999999999,\n 9999999999999,\n 9999999999999,\n 9999999999999,\n 9999999999999,\n 9999999999999,\n 9999999999999,\n 9999999999999,\n 9999999999999,\n 9999999999999,\n 9999999999999,\n 9999999999999,\n 9999999999999,\n 9999999999999,\n 9999999999999,\n 9999999999999,\n 9999999999999,\n 9999999999999,\n 9999999999999,\n 9999999999999,\n 9999999999999,\n 9999999999999,\n 9999999999999,\n 9999999999999,\n 9999999999999,\n 9999999999999,\n 9999999999999,\n 9999999999999,\n 9999999999999,\n 9999999999999,\n 9999999999999,\n 9999999999999]"
     },
     "execution_count": 43,
     "metadata": {},
     "output_type": "execute_result"
    }
   ],
   "source": [
    "path_lengths.sort()\n",
    "\n",
    "path_lengths"
   ],
   "metadata": {
    "collapsed": false,
    "pycharm": {
     "name": "#%%\n"
    }
   }
  }
 ],
 "metadata": {
  "kernelspec": {
   "display_name": "Python 3",
   "language": "python",
   "name": "python3"
  },
  "language_info": {
   "codemirror_mode": {
    "name": "ipython",
    "version": 2
   },
   "file_extension": ".py",
   "mimetype": "text/x-python",
   "name": "python",
   "nbconvert_exporter": "python",
   "pygments_lexer": "ipython2",
   "version": "2.7.6"
  }
 },
 "nbformat": 4,
 "nbformat_minor": 0
}