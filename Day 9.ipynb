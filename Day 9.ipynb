{
 "cells": [
  {
   "cell_type": "markdown",
   "source": [
    "# Part 1"
   ],
   "metadata": {
    "collapsed": false,
    "pycharm": {
     "name": "#%% md\n"
    }
   }
  },
  {
   "cell_type": "code",
   "execution_count": 1,
   "outputs": [],
   "source": [
    "moves = []\n",
    "\n",
    "with open('data/day-9.data') as f:\n",
    "    for line in f.readlines():\n",
    "        move_parts = line.strip().split(' ')\n",
    "        moves.append([move_parts[0], int(move_parts[1])])"
   ],
   "metadata": {
    "collapsed": false,
    "pycharm": {
     "name": "#%%\n"
    }
   }
  },
  {
   "cell_type": "code",
   "execution_count": 2,
   "outputs": [
    {
     "data": {
      "text/plain": "2000"
     },
     "execution_count": 2,
     "metadata": {},
     "output_type": "execute_result"
    }
   ],
   "source": [
    "len(moves)"
   ],
   "metadata": {
    "collapsed": false,
    "pycharm": {
     "name": "#%%\n"
    }
   }
  },
  {
   "cell_type": "code",
   "execution_count": 11,
   "outputs": [],
   "source": [
    "class Position:\n",
    "    def __init__(self, x, y, columns):\n",
    "        self.x = x\n",
    "        self.y = y\n",
    "        self.columns = columns\n",
    "\n",
    "    def __str__(self):\n",
    "        return '(' + str(self.x) + ', ' + str(self.y) + ')'\n",
    "\n",
    "    def __eq__(self, other):\n",
    "        return self.x == other.x and self.y == other.y\n",
    "\n",
    "    def __hash__(self):\n",
    "        return self.x + self.y * self.columns"
   ],
   "metadata": {
    "collapsed": false,
    "pycharm": {
     "name": "#%%\n"
    }
   }
  },
  {
   "cell_type": "code",
   "execution_count": 21,
   "outputs": [],
   "source": [
    "def are_head_tail_touching(h_pos, t_pos):\n",
    "    return abs(h_pos.x - t_pos.x) <= 1 and abs(h_pos.y - t_pos.y) <= 1"
   ],
   "metadata": {
    "collapsed": false,
    "pycharm": {
     "name": "#%%\n"
    }
   }
  },
  {
   "cell_type": "code",
   "execution_count": 5,
   "outputs": [],
   "source": [
    "def move_tail(direction):\n",
    "    global head_pos, tail_pos\n",
    "\n",
    "    if are_head_tail_touching(head_pos, tail_pos): return\n",
    "\n",
    "    if direction == 'U':\n",
    "        tail_pos.x = head_pos.x\n",
    "        tail_pos.y = head_pos.y + 1\n",
    "\n",
    "    elif direction == 'D':\n",
    "        tail_pos.x = head_pos.x\n",
    "        tail_pos.y = head_pos.y - 1\n",
    "\n",
    "    elif direction == 'L':\n",
    "        tail_pos.x = head_pos.x + 1\n",
    "        tail_pos.y = head_pos.y\n",
    "\n",
    "    else: # R\n",
    "        tail_pos.x = head_pos.x - 1\n",
    "        tail_pos.y = head_pos.y"
   ],
   "metadata": {
    "collapsed": false,
    "pycharm": {
     "name": "#%%\n"
    }
   }
  },
  {
   "cell_type": "code",
   "execution_count": 6,
   "outputs": [],
   "source": [
    "def make_move(direction, tail_positions):\n",
    "    global head_pos, tail_pos\n",
    "\n",
    "    x_step = 0\n",
    "    y_step = 0\n",
    "\n",
    "    if direction == 'U': y_step = -1\n",
    "    elif direction == 'D': y_step = 1\n",
    "    elif direction == 'L': x_step = -1\n",
    "    else: x_step = 1 # R\n",
    "\n",
    "    for i in range(move[1]):\n",
    "        head_pos.x += x_step\n",
    "        head_pos.y += y_step\n",
    "\n",
    "        move_tail(direction)\n",
    "\n",
    "        tail_positions.add(tail_pos)"
   ],
   "metadata": {
    "collapsed": false,
    "pycharm": {
     "name": "#%%\n"
    }
   }
  },
  {
   "cell_type": "code",
   "execution_count": 7,
   "outputs": [],
   "source": [
    "grid_columns = 1000\n",
    "\n",
    "start_pos = Position(0, int((grid_columns-1) / 2), grid_columns)\n",
    "head_pos = Position(0, int((grid_columns-1) / 2), grid_columns)\n",
    "tail_pos = Position(0, int((grid_columns-1) / 2), grid_columns)\n",
    "\n",
    "visited_tail_positions = set()\n",
    "\n",
    "for move in moves:\n",
    "    make_move(move[0], visited_tail_positions)"
   ],
   "metadata": {
    "collapsed": false,
    "pycharm": {
     "name": "#%%\n"
    }
   }
  },
  {
   "cell_type": "code",
   "execution_count": 8,
   "outputs": [
    {
     "data": {
      "text/plain": "5695"
     },
     "execution_count": 8,
     "metadata": {},
     "output_type": "execute_result"
    }
   ],
   "source": [
    "len(visited_tail_positions)"
   ],
   "metadata": {
    "collapsed": false,
    "pycharm": {
     "name": "#%%\n"
    }
   }
  },
  {
   "cell_type": "markdown",
   "source": [
    "# Part 2"
   ],
   "metadata": {
    "collapsed": false,
    "pycharm": {
     "name": "#%% md\n"
    }
   }
  },
  {
   "cell_type": "code",
   "execution_count": 186,
   "outputs": [],
   "source": [
    "moves_2 = []\n",
    "\n",
    "with open('data/day-9-b.data') as f:\n",
    "    lines = f.readlines()\n",
    "\n",
    "    for line in lines:\n",
    "        move_parts = line.strip().split(' ')\n",
    "        move = [move_parts[0], int(move_parts[1])]\n",
    "        moves_2.append(move)"
   ],
   "metadata": {
    "collapsed": false,
    "pycharm": {
     "name": "#%%\n"
    }
   }
  },
  {
   "cell_type": "code",
   "execution_count": 187,
   "outputs": [
    {
     "data": {
      "text/plain": "2000"
     },
     "execution_count": 187,
     "metadata": {},
     "output_type": "execute_result"
    }
   ],
   "source": [
    "len(moves_2)"
   ],
   "metadata": {
    "collapsed": false,
    "pycharm": {
     "name": "#%%\n"
    }
   }
  },
  {
   "cell_type": "code",
   "execution_count": 197,
   "outputs": [],
   "source": [
    "def print_grid():\n",
    "    global positions, columns_2\n",
    "\n",
    "    grid_2 = []\n",
    "\n",
    "    for i in range(columns_2):\n",
    "        row = []\n",
    "\n",
    "        for j in range(columns_2):\n",
    "            row.append('.')\n",
    "\n",
    "        grid_2.append(row)\n",
    "\n",
    "    for i in range(len(positions)-1, -1, -1):\n",
    "        grid_2[positions[i].y][positions[i].x] = str(i)\n",
    "\n",
    "    for i in range(len(grid_2)):\n",
    "        print(grid_2[i])\n",
    "\n",
    "    print()"
   ],
   "metadata": {
    "collapsed": false,
    "pycharm": {
     "name": "#%%\n"
    }
   }
  },
  {
   "cell_type": "code",
   "execution_count": 198,
   "outputs": [],
   "source": [
    "def move_head(knot, direction):\n",
    "    if direction == 'U':\n",
    "        knot.y += -1\n",
    "\n",
    "    elif direction == 'D':\n",
    "        knot.y += 1\n",
    "\n",
    "    elif direction == 'L':\n",
    "        knot.x += -1\n",
    "\n",
    "    else: # R\n",
    "        knot.x += 1\n",
    "\n",
    "    # print_grid()"
   ],
   "metadata": {
    "collapsed": false,
    "pycharm": {
     "name": "#%%\n"
    }
   }
  },
  {
   "cell_type": "code",
   "execution_count": 199,
   "outputs": [],
   "source": [
    "def move_tail(knot, knot_parent):\n",
    "    if knot.x == knot_parent.x:\n",
    "        if knot_parent.y > knot.y: knot.y += 1\n",
    "        else: knot.y -= 1\n",
    "\n",
    "    elif knot.y == knot_parent.y:\n",
    "        if knot_parent.x > knot.x: knot.x += 1\n",
    "        else: knot.x -= 1\n",
    "\n",
    "    else:\n",
    "        if knot_parent.x > knot.x: knot.x += 1\n",
    "        else: knot.x -= 1\n",
    "\n",
    "        if knot_parent.y > knot.y: knot.y += 1\n",
    "        else: knot.y -= 1"
   ],
   "metadata": {
    "collapsed": false,
    "pycharm": {
     "name": "#%%\n"
    }
   }
  },
  {
   "cell_type": "code",
   "execution_count": 200,
   "outputs": [],
   "source": [
    "def move_children():\n",
    "    global positions, visited_tail_positions_2\n",
    "\n",
    "    for i in range(1, len(positions)):\n",
    "        if are_head_tail_touching(positions[i], positions[i-1]): return\n",
    "\n",
    "        move_tail(positions[i], positions[i-1])\n",
    "        visited_tail_positions_2.add(positions[-1])\n",
    "\n",
    "        # print_grid()"
   ],
   "metadata": {
    "collapsed": false,
    "pycharm": {
     "name": "#%%\n"
    }
   }
  },
  {
   "cell_type": "code",
   "execution_count": 202,
   "outputs": [],
   "source": [
    "positions = []\n",
    "columns_2 = 1000\n",
    "visited_tail_positions_2 = set()\n",
    "\n",
    "for i in range(10):\n",
    "    positions.append(Position(500, 500, columns_2))\n",
    "\n",
    "for i in range(len(moves_2)):\n",
    "    move = moves_2[i]\n",
    "    last_move = None\n",
    "\n",
    "    # print(move)\n",
    "\n",
    "    for j in range(move[1]):\n",
    "        move_head(positions[0], move[0])\n",
    "        move_children()"
   ],
   "metadata": {
    "collapsed": false,
    "pycharm": {
     "name": "#%%\n"
    }
   }
  },
  {
   "cell_type": "code",
   "execution_count": 203,
   "outputs": [
    {
     "data": {
      "text/plain": "2434"
     },
     "execution_count": 203,
     "metadata": {},
     "output_type": "execute_result"
    }
   ],
   "source": [
    "len(visited_tail_positions_2)"
   ],
   "metadata": {
    "collapsed": false,
    "pycharm": {
     "name": "#%%\n"
    }
   }
  }
 ],
 "metadata": {
  "kernelspec": {
   "display_name": "Python 3",
   "language": "python",
   "name": "python3"
  },
  "language_info": {
   "codemirror_mode": {
    "name": "ipython",
    "version": 2
   },
   "file_extension": ".py",
   "mimetype": "text/x-python",
   "name": "python",
   "nbconvert_exporter": "python",
   "pygments_lexer": "ipython2",
   "version": "2.7.6"
  }
 },
 "nbformat": 4,
 "nbformat_minor": 0
}