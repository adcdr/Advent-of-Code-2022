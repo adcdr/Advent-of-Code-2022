{
 "cells": [
  {
   "cell_type": "code",
   "execution_count": 24,
   "outputs": [],
   "source": [
    "my_moves_map = {\n",
    "    'X': 'A',\n",
    "    'Y': 'B',\n",
    "    'Z': 'C'\n",
    "}"
   ],
   "metadata": {
    "collapsed": false,
    "pycharm": {
     "name": "#%%\n"
    }
   }
  },
  {
   "cell_type": "code",
   "execution_count": null,
   "outputs": [],
   "source": [
    "class Move:\n",
    "    def __init__(self, my_move, opp_move):\n",
    "        self.my_move = my_move\n",
    "        self.opp_move = opp_move\n",
    "\n",
    "    def is_draw(self):\n",
    "        return self.my_move == self.opp_move\n",
    "\n",
    "    def is_win(self):\n",
    "        if self.my_move == 'A' and self.opp_move == 'C':\n",
    "            return True\n",
    "\n",
    "        if self.my_move == 'B'and self.opp_move == 'A':\n",
    "            return True\n",
    "\n",
    "        if self.my_move == 'C' and self.opp_move == 'B':\n",
    "            return True\n",
    "\n",
    "        return False\n",
    "\n",
    "    def get_score(self):\n",
    "        result = 0\n",
    "\n",
    "        if self.is_draw(): result += 3\n",
    "        if self.is_win(): result += 6\n",
    "\n",
    "        if self.my_move == 'A': result += 1\n",
    "        if self.my_move == 'B': result += 2\n",
    "        if self.my_move == 'C': result += 3\n",
    "\n",
    "        return result"
   ],
   "metadata": {
    "collapsed": false,
    "pycharm": {
     "name": "#%%\n"
    }
   }
  },
  {
   "cell_type": "code",
   "execution_count": null,
   "outputs": [],
   "source": [
    "total_score = 0\n",
    "\n",
    "with open('day-2.data') as f:\n",
    "    lines = f.readlines()\n",
    "\n",
    "    for line in lines:\n",
    "        match = line.split()\n",
    "        match[1] = my_moves_map[match[1]]\n",
    "\n",
    "        game = Move(match[1], match[0])\n",
    "\n",
    "        total_score += game.get_score()"
   ],
   "metadata": {
    "collapsed": false,
    "pycharm": {
     "name": "#%%\n"
    }
   }
  },
  {
   "cell_type": "code",
   "execution_count": null,
   "outputs": [],
   "source": [
    "print(total_score)"
   ],
   "metadata": {
    "collapsed": false,
    "pycharm": {
     "name": "#%%\n"
    }
   }
  },
  {
   "cell_type": "markdown",
   "source": [
    "# Part 2"
   ],
   "metadata": {
    "collapsed": false,
    "pycharm": {
     "name": "#%% md\n"
    }
   }
  },
  {
   "cell_type": "code",
   "execution_count": null,
   "outputs": [],
   "source": [
    "def get_scripted_move(opp_move, outcome):\n",
    "    # win\n",
    "    if outcome == 'Z':\n",
    "        if opp_move == 'A': return 'B'\n",
    "        if opp_move == 'B': return 'C'\n",
    "        if opp_move == 'C': return 'A'\n",
    "\n",
    "    # loss\n",
    "    if outcome == 'X':\n",
    "        if opp_move == 'A': return 'C'\n",
    "        if opp_move == 'B': return 'A'\n",
    "        if opp_move == 'C': return 'B'\n",
    "\n",
    "    # draw\n",
    "    return opp_move"
   ],
   "metadata": {
    "collapsed": false,
    "pycharm": {
     "name": "#%%\n"
    }
   }
  },
  {
   "cell_type": "code",
   "execution_count": null,
   "outputs": [],
   "source": [
    "total_score = 0\n",
    "\n",
    "with open('day-2.data') as f:\n",
    "    lines = f.readlines()\n",
    "\n",
    "    for line in lines:\n",
    "        line_parts = line.split()\n",
    "\n",
    "        my_choice = get_scripted_move(line_parts[0], line_parts[1])\n",
    "        total_score += Move(my_choice, line_parts[0]).get_score()\n",
    "\n",
    "    print(total_score)"
   ],
   "metadata": {
    "collapsed": false,
    "pycharm": {
     "name": "#%%\n"
    }
   }
  }
 ],
 "metadata": {
  "kernelspec": {
   "display_name": "Python 3",
   "language": "python",
   "name": "python3"
  },
  "language_info": {
   "codemirror_mode": {
    "name": "ipython",
    "version": 2
   },
   "file_extension": ".py",
   "mimetype": "text/x-python",
   "name": "python",
   "nbconvert_exporter": "python",
   "pygments_lexer": "ipython2",
   "version": "2.7.6"
  }
 },
 "nbformat": 4,
 "nbformat_minor": 0
}