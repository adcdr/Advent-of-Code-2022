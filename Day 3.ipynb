{
 "cells": [
  {
   "cell_type": "markdown",
   "source": [
    "# Part A"
   ],
   "metadata": {
    "collapsed": false,
    "pycharm": {
     "name": "#%% md\n"
    }
   }
  },
  {
   "cell_type": "code",
   "execution_count": 146,
   "outputs": [],
   "source": [
    "rucksacks = []\n",
    "\n",
    "with open('data/day-3.data') as f:\n",
    "    lines = f.readlines()\n",
    "\n",
    "    for line in lines:\n",
    "        items = line.strip()\n",
    "        compartment_1, compartment_2  = items[:len(items)//2], items[len(items)//2:]\n",
    "\n",
    "        rucksacks.append([compartment_1, compartment_2])"
   ],
   "metadata": {
    "collapsed": false,
    "pycharm": {
     "name": "#%%\n"
    }
   }
  },
  {
   "cell_type": "code",
   "execution_count": 147,
   "outputs": [
    {
     "data": {
      "text/plain": "300"
     },
     "execution_count": 147,
     "metadata": {},
     "output_type": "execute_result"
    }
   ],
   "source": [
    "len(rucksacks)"
   ],
   "metadata": {
    "collapsed": false,
    "pycharm": {
     "name": "#%%\n"
    }
   }
  },
  {
   "cell_type": "code",
   "execution_count": 148,
   "outputs": [
    {
     "name": "stdout",
     "output_type": "stream",
     "text": [
      "['lflZfgnSnlmmlgGfjG', 'thQPtLNsQhvbHLLpSS']\n"
     ]
    }
   ],
   "source": [
    "print(rucksacks[0])"
   ],
   "metadata": {
    "collapsed": false,
    "pycharm": {
     "name": "#%%\n"
    }
   }
  },
  {
   "cell_type": "code",
   "execution_count": 149,
   "outputs": [],
   "source": [
    "def find_duplicate(string_a, string_b):\n",
    "    duplicates = []\n",
    "\n",
    "    for i, char in enumerate(string_a[0]):\n",
    "        if string_b[1].count(char) > 0:\n",
    "            return char"
   ],
   "metadata": {
    "collapsed": false,
    "pycharm": {
     "name": "#%%\n"
    }
   }
  },
  {
   "cell_type": "code",
   "execution_count": 150,
   "outputs": [],
   "source": [
    "rucksack_duplicates = []\n",
    "\n",
    "for rucksack in rucksacks:\n",
    "    find_duplicate(rucksack[0], rucksack[1])\n",
    "\n",
    "    for i, v in enumerate(rucksack[0]):\n",
    "        if rucksack[1].count(v) > 0:\n",
    "            rucksack_duplicates.append(v)\n",
    "            break"
   ],
   "metadata": {
    "collapsed": false,
    "pycharm": {
     "name": "#%%\n"
    }
   }
  },
  {
   "cell_type": "code",
   "execution_count": 151,
   "outputs": [
    {
     "data": {
      "text/plain": "300"
     },
     "execution_count": 151,
     "metadata": {},
     "output_type": "execute_result"
    }
   ],
   "source": [
    "len(rucksack_duplicates)"
   ],
   "metadata": {
    "collapsed": false,
    "pycharm": {
     "name": "#%%\n"
    }
   }
  },
  {
   "cell_type": "code",
   "execution_count": 152,
   "outputs": [],
   "source": [
    "def item_priority(item):\n",
    "    if item.islower():\n",
    "        return abs(96 - ord(item))\n",
    "\n",
    "    return abs(65 - ord(item)) + 27"
   ],
   "metadata": {
    "collapsed": false,
    "pycharm": {
     "name": "#%%\n"
    }
   }
  },
  {
   "cell_type": "code",
   "execution_count": 153,
   "outputs": [
    {
     "data": {
      "text/plain": "26"
     },
     "execution_count": 153,
     "metadata": {},
     "output_type": "execute_result"
    }
   ],
   "source": [
    "item_priority('z')"
   ],
   "metadata": {
    "collapsed": false,
    "pycharm": {
     "name": "#%%\n"
    }
   }
  },
  {
   "cell_type": "code",
   "execution_count": 154,
   "outputs": [],
   "source": [
    "total_priority = 0\n",
    "\n",
    "for i in rucksack_duplicates:\n",
    "    total_priority += item_priority(i)"
   ],
   "metadata": {
    "collapsed": false,
    "pycharm": {
     "name": "#%%\n"
    }
   }
  },
  {
   "cell_type": "code",
   "execution_count": 155,
   "outputs": [
    {
     "data": {
      "text/plain": "8401"
     },
     "execution_count": 155,
     "metadata": {},
     "output_type": "execute_result"
    }
   ],
   "source": [
    "total_priority"
   ],
   "metadata": {
    "collapsed": false,
    "pycharm": {
     "name": "#%%\n"
    }
   }
  },
  {
   "cell_type": "markdown",
   "source": [
    "# Part B"
   ],
   "metadata": {
    "collapsed": false,
    "pycharm": {
     "name": "#%% md\n"
    }
   }
  },
  {
   "cell_type": "code",
   "execution_count": 171,
   "outputs": [
    {
     "data": {
      "text/plain": "99"
     },
     "execution_count": 171,
     "metadata": {},
     "output_type": "execute_result"
    }
   ],
   "source": [
    "groups = []\n",
    "\n",
    "with open('data/day-3-b.data') as f:\n",
    "    lines = f.readlines()\n",
    "    group = []\n",
    "\n",
    "    for i, line in enumerate(lines):\n",
    "        rucksack = line.strip()\n",
    "        group.append(rucksack)\n",
    "\n",
    "        if i%3 == 0:\n",
    "            if i > 0: groups.append(group)\n",
    "            group = []\n",
    "\n",
    "len(groups)"
   ],
   "metadata": {
    "collapsed": false,
    "pycharm": {
     "name": "#%%\n"
    }
   }
  },
  {
   "cell_type": "code",
   "execution_count": 168,
   "outputs": [],
   "source": [
    "def find_duplicates(string_a, string_b):\n",
    "    duplicates = []\n",
    "\n",
    "    for i, char in enumerate(string_a[0]):\n",
    "        if string_b[1].count(char) > 0:\n",
    "            duplicates.append(char)"
   ],
   "metadata": {
    "collapsed": false,
    "pycharm": {
     "name": "#%%\n"
    }
   }
  },
  {
   "cell_type": "code",
   "execution_count": 172,
   "outputs": [
    {
     "name": "stdout",
     "output_type": "stream",
     "text": [
      "['zrCVDVFMJTCTcCJMwCThWbtbpbWpPbtbHPLQssLsHP', 'rBFcrwFzFwwVDcDrzTzJfnRGjllBdGZnnZfhqmdn', 'FjpnFRDmbRtnbJrFJmSTsGShWVhGqGVVsmqs']\n",
      "None\n",
      "['ZwPvNPdzNZwfzBNLdNNNNcLvhnQhqMTVsTGSWSqGqTdVWhMT', 'vgLZHfvLffNLPbggnrbFpJnCbC', 'hzJzGjGfqmGtDQtDSvVV']\n",
      "None\n"
     ]
    }
   ],
   "source": [
    "for group in groups[:2]:\n",
    "    print(group)\n",
    "    print(find_duplicates(group[0], group[1]))"
   ],
   "metadata": {
    "collapsed": false,
    "pycharm": {
     "name": "#%%\n"
    }
   }
  }
 ],
 "metadata": {
  "kernelspec": {
   "display_name": "Python 3",
   "language": "python",
   "name": "python3"
  },
  "language_info": {
   "codemirror_mode": {
    "name": "ipython",
    "version": 2
   },
   "file_extension": ".py",
   "mimetype": "text/x-python",
   "name": "python",
   "nbconvert_exporter": "python",
   "pygments_lexer": "ipython2",
   "version": "2.7.6"
  }
 },
 "nbformat": 4,
 "nbformat_minor": 0
}