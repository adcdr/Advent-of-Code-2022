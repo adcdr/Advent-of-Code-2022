{
 "cells": [
  {
   "cell_type": "markdown",
   "source": [
    "# Part 1"
   ],
   "metadata": {
    "collapsed": false,
    "pycharm": {
     "name": "#%% md\n"
    }
   }
  },
  {
   "cell_type": "code",
   "execution_count": 107,
   "outputs": [
    {
     "name": "stdout",
     "output_type": "stream",
     "text": [
      "0 4188971\n",
      "-158441 4171278\n"
     ]
    },
    {
     "data": {
      "text/plain": "32"
     },
     "execution_count": 107,
     "metadata": {},
     "output_type": "execute_result"
    }
   ],
   "source": [
    "import re\n",
    "\n",
    "\n",
    "\n",
    "data = []\n",
    "grid_min_x = grid_min_y = grid_max_x = grid_max_y = 0\n",
    "\n",
    "with open('data/day-15.data') as f:\n",
    "    positions_pattern = re.compile(r'Sensor\\sat\\s(.*):\\sclosest\\sbeacon\\sis\\sat\\s(.*)')\n",
    "    coordinate_pattern = re.compile(r'x=(.*),\\sy=(.*)')\n",
    "\n",
    "    for line in f.readlines():\n",
    "        positions_matches = positions_pattern.match(line.strip())\n",
    "        sensor_pos_matches = coordinate_pattern.match(positions_matches.group(1))\n",
    "        beacon_pos_matches = coordinate_pattern.match(positions_matches.group(2))\n",
    "\n",
    "        sensor_x = int(sensor_pos_matches.group(1))\n",
    "        sensor_y = int(sensor_pos_matches.group(2))\n",
    "        beacon_x = int(beacon_pos_matches.group(1))\n",
    "        beacon_y = int(beacon_pos_matches.group(2))\n",
    "\n",
    "        if sensor_x > grid_max_x: grid_max_x = sensor_x\n",
    "        if beacon_x > grid_max_x: grid_max_x = beacon_x\n",
    "        if sensor_y > grid_max_y: grid_max_y = sensor_y\n",
    "        if beacon_y > grid_max_y: grid_max_y = beacon_y\n",
    "\n",
    "        if sensor_x < grid_min_x: grid_min_x = sensor_x\n",
    "        if beacon_x < grid_min_x: grid_min_x = beacon_x\n",
    "        if sensor_y < grid_min_y: grid_min_y = sensor_y\n",
    "        if beacon_y < grid_min_y: grid_min_y = beacon_y\n",
    "\n",
    "        data.append([(sensor_x, sensor_y), (beacon_x, beacon_y), abs(sensor_x - beacon_x) + abs(sensor_y - beacon_y)])\n",
    "\n",
    "\n",
    "\n",
    "print(grid_min_x, grid_max_y)\n",
    "print(grid_min_y, grid_max_x)\n",
    "\n",
    "len(data)"
   ],
   "metadata": {
    "collapsed": false,
    "pycharm": {
     "name": "#%%\n"
    }
   }
  },
  {
   "cell_type": "code",
   "execution_count": 86,
   "outputs": [],
   "source": [
    "def get_manhatten_dist(source, dest):\n",
    "    return abs(dest[0] - source[0]) + abs(dest[1] - source[1])"
   ],
   "metadata": {
    "collapsed": false,
    "pycharm": {
     "name": "#%%\n"
    }
   }
  },
  {
   "cell_type": "code",
   "execution_count": 88,
   "outputs": [
    {
     "data": {
      "text/plain": "26"
     },
     "execution_count": 88,
     "metadata": {},
     "output_type": "execute_result"
    }
   ],
   "source": [
    "# TARGET_ROW = 2_000_000\n",
    "TARGET_ROW = 20\n",
    "\n",
    "covered_target_cells = set()\n",
    "beacons_on_target = set()\n",
    "\n",
    "for datum in data:\n",
    "    sensor_pos = datum[0]\n",
    "    beacon_pos = (datum[1][0] + 1, datum[1][1])\n",
    "    sensor_range = datum[2]\n",
    "\n",
    "    min_x = sensor_pos[0] - sensor_range\n",
    "    max_x = sensor_pos[0] + sensor_range\n",
    "    min_y = sensor_pos[1] - sensor_range\n",
    "    max_y = sensor_pos[1] + sensor_range\n",
    "\n",
    "    if min_y <= TARGET_ROW <= max_y:\n",
    "        for x in range(min_x, max_x):\n",
    "            if get_manhatten_dist((x, TARGET_ROW), sensor_pos) <= sensor_range:\n",
    "                covered_target_cells.add((x, TARGET_ROW))\n",
    "\n",
    "            if (x, TARGET_ROW) == beacon_pos: beacons_on_target.add((x, TARGET_ROW))\n",
    "\n",
    "\n",
    "\n",
    "len(covered_target_cells) - len(beacons_on_target)"
   ],
   "metadata": {
    "collapsed": false,
    "pycharm": {
     "name": "#%%\n"
    }
   }
  },
  {
   "cell_type": "markdown",
   "source": [
    "# Part 2"
   ],
   "metadata": {
    "collapsed": false,
    "pycharm": {
     "name": "#%% md\n"
    }
   }
  },
  {
   "cell_type": "code",
   "execution_count": 89,
   "outputs": [],
   "source": [
    "def is_point_covered(point, beacons_positions):\n",
    "    for sensor_pos, _, sensor_range in data:\n",
    "        if get_manhatten_dist(point, sensor_pos) <= sensor_range:\n",
    "            return True\n",
    "\n",
    "    return False"
   ],
   "metadata": {
    "collapsed": false,
    "pycharm": {
     "name": "#%%\n"
    }
   }
  },
  {
   "cell_type": "code",
   "execution_count": 114,
   "outputs": [
    {
     "name": "stderr",
     "output_type": "stream",
     "text": [
      " 69%|██████▉   | 22/32 [03:34<01:37,  9.73s/it]"
     ]
    },
    {
     "name": "stdout",
     "output_type": "stream",
     "text": [
      "11840879211051\n"
     ]
    },
    {
     "name": "stderr",
     "output_type": "stream",
     "text": [
      "\n"
     ]
    }
   ],
   "source": [
    "import datetime\n",
    "from tqdm import tqdm\n",
    "\n",
    "\n",
    "\n",
    "MAX_RANGE = 4_000_000\n",
    "# MAX_RANGE = 20\n",
    "\n",
    "beacon_positions = set()\n",
    "done = False\n",
    "\n",
    "for _, beacon_pos, _ in data:\n",
    "    beacon_positions.add(beacon_pos)\n",
    "\n",
    "for sensor_pos, _, sensor_range in tqdm(data):\n",
    "    sensor_x, sensor_y = sensor_pos\n",
    "\n",
    "    if done: break\n",
    "\n",
    "    # bottom-right quadrant\n",
    "    for x in range(sensor_range + 2):\n",
    "        y = sensor_range - (x - 1)\n",
    "        x += sensor_x\n",
    "        y += sensor_y\n",
    "\n",
    "        if 0 <= x + sensor_x <= MAX_RANGE and 0 <= y + sensor_y <= MAX_RANGE and not is_point_covered((x, y), beacon_positions):\n",
    "            print(x*4_000_000 + y)\n",
    "            done = True\n",
    "            break\n",
    "\n",
    "    # bottom-left quadrant\n",
    "    for y in range(sensor_range + 2):\n",
    "        if done: break\n",
    "\n",
    "        x = (y - 1) - sensor_range\n",
    "        x += sensor_x\n",
    "        y += sensor_y\n",
    "\n",
    "        if 0 <= x <= MAX_RANGE and 0 <= y <= MAX_RANGE and not is_point_covered((x, y), beacon_positions):\n",
    "            print(x*4_000_000 + y)\n",
    "            done = True\n",
    "            break\n",
    "\n",
    "    # top-left quadrant\n",
    "    for x in range(-1 * (sensor_range + 2), 1):\n",
    "        if done: break\n",
    "\n",
    "        y = -1 * sensor_range - (x - 1)\n",
    "        x += sensor_x\n",
    "        y += sensor_y\n",
    "\n",
    "        if 0 <= x <= MAX_RANGE and 0 <= y <= MAX_RANGE and not is_point_covered((x, y), beacon_positions):\n",
    "            print(x*4_000_000 + y)\n",
    "            done = True\n",
    "            break\n",
    "\n",
    "    # top-right quadrant\n",
    "    for y in range(-1 * (sensor_range -2), 1):\n",
    "        if done: break\n",
    "\n",
    "        x = sensor_range + (y + 1)\n",
    "        x += sensor_x\n",
    "        y += sensor_y\n",
    "\n",
    "        if 0 <= x <= MAX_RANGE and 0 <= y <= MAX_RANGE and not is_point_covered((x, y), beacon_positions):\n",
    "            print(x*4_000_000 + y)\n",
    "            done = True\n",
    "            break"
   ],
   "metadata": {
    "collapsed": false,
    "pycharm": {
     "name": "#%%\n"
    }
   }
  }
 ],
 "metadata": {
  "kernelspec": {
   "display_name": "Python 3",
   "language": "python",
   "name": "python3"
  },
  "language_info": {
   "codemirror_mode": {
    "name": "ipython",
    "version": 2
   },
   "file_extension": ".py",
   "mimetype": "text/x-python",
   "name": "python",
   "nbconvert_exporter": "python",
   "pygments_lexer": "ipython2",
   "version": "2.7.6"
  }
 },
 "nbformat": 4,
 "nbformat_minor": 0
}